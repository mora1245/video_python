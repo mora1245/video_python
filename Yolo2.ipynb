{
 "cells": [
  {
   "cell_type": "code",
   "execution_count": 4,
   "id": "1a8776a2-8b42-411a-a5e7-f06260c37289",
   "metadata": {},
   "outputs": [],
   "source": [
    "from ultralytics import YOLO"
   ]
  },
  {
   "cell_type": "code",
   "execution_count": 5,
   "id": "58cd73d5-5610-4fa3-8a5e-1bd2aeb7a144",
   "metadata": {},
   "outputs": [
    {
     "name": "stdout",
     "output_type": "stream",
     "text": [
      "\n",
      "image 1/1 D:\\IMAGE\\img.jpg: 448x640 8 persons, 2 cars, 2 traffic lights, 96.4ms\n",
      "Speed: 2.0ms preprocess, 96.4ms inference, 1.0ms postprocess per image at shape (1, 3, 448, 640)\n",
      "Results saved to \u001b[1mruns\\detect\\predict5\u001b[0m\n"
     ]
    }
   ],
   "source": [
    "model = YOLO(\"yolov8n.pt\")\n",
    "results = model(source=r\"D:/IMAGE/img.jpg\", show=True, conf=0.4, save=True)"
   ]
  },
  {
   "cell_type": "code",
   "execution_count": null,
   "id": "52727b79-e306-4bd7-b6ef-af928278c6d1",
   "metadata": {},
   "outputs": [],
   "source": []
  }
 ],
 "metadata": {
  "kernelspec": {
   "display_name": "Python 3 (ipykernel)",
   "language": "python",
   "name": "python3"
  },
  "language_info": {
   "codemirror_mode": {
    "name": "ipython",
    "version": 3
   },
   "file_extension": ".py",
   "mimetype": "text/x-python",
   "name": "python",
   "nbconvert_exporter": "python",
   "pygments_lexer": "ipython3",
   "version": "3.11.7"
  }
 },
 "nbformat": 4,
 "nbformat_minor": 5
}
